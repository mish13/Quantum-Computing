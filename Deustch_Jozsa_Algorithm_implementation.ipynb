{
  "nbformat": 4,
  "nbformat_minor": 0,
  "metadata": {
    "colab": {
      "name": "Deustch-Jozsa Algorithm implementation.ipynb",
      "provenance": [],
      "collapsed_sections": []
    },
    "kernelspec": {
      "name": "python3",
      "display_name": "Python 3"
    }
  },
  "cells": [
    {
      "cell_type": "code",
      "metadata": {
        "id": "ol8ck66zbBKY",
        "colab_type": "code",
        "colab": {}
      },
      "source": [
        "!pip install qiskit"
      ],
      "execution_count": 0,
      "outputs": []
    },
    {
      "cell_type": "code",
      "metadata": {
        "id": "qyzpXZthfTtn",
        "colab_type": "code",
        "colab": {
          "base_uri": "https://localhost:8080/",
          "height": 34
        },
        "outputId": "fd5a4019-697d-40de-9ab7-5e4bbd7149a2"
      },
      "source": [
        "from qiskit import QuantumRegister, ClassicalRegister, QuantumCircuit\n",
        "from qiskit import IBMQ, Aer, execute\n",
        "\n",
        "IBMQ.save_account('Token')  #Give the token value form the id\n",
        "IBMQ.load_account()"
      ],
      "execution_count": 3,
      "outputs": [
        {
          "output_type": "execute_result",
          "data": {
            "text/plain": [
              "<AccountProvider for IBMQ(hub='ibm-q', group='open', project='main')>"
            ]
          },
          "metadata": {
            "tags": []
          },
          "execution_count": 3
        }
      ]
    },
    {
      "cell_type": "markdown",
      "metadata": {
        "id": "DI0ZRcZqbH7E",
        "colab_type": "text"
      },
      "source": [
        "#Implementation of Deustch-Jozsa Algorithm\n",
        "\n",
        "Here Deustch-Jozsa algorithm is implemented taking the top input $|\\textbf{x}\\rangle = |x_0x_1\\rangle$ consisting of 2 bits. We set the bottom input $|y\\rangle = |1\\rangle$. After that we apply H gate to each of the input lines, both $|\\textbf{x}\\rangle (= |x_0x_1\\rangle)$ and $|y\\rangle$ and then pass it through the function.\n",
        "\n",
        "At last we pass the top output lines through H gates. The top output bit corresponds to $|\\textbf{x}\\rangle$ and the bottom output corresponds to $|y\\oplus f(\\textbf{x})\\rangle$ where all of the output lines will give superpositioned states."
      ]
    },
    {
      "cell_type": "markdown",
      "metadata": {
        "id": "1x3viVwxB7Us",
        "colab_type": "text"
      },
      "source": [
        "#Constant Function\n",
        "There can be two constant functions. Both of them are implemented below:"
      ]
    },
    {
      "cell_type": "markdown",
      "metadata": {
        "id": "QjKJfof5DI4S",
        "colab_type": "text"
      },
      "source": [
        "Here all possible inputs of $|\\textbf{x}\\rangle = |x_0x_1\\rangle$ will map into $|0\\rangle$ as output. The function is defiined as below:\n",
        "\n",
        "$f(\\textbf{x}): \\{0,1\\}^2 \\rightarrow \\{0\\}$\n",
        "\n",
        "This produces the unitary matrix as below thinking the domain for $|y\\rangle$ as $\\{0,1\\}$.\n",
        "\n",
        "<center>\n",
        "$\\begin{pmatrix}\n",
        " 1 & 0 & 0 & 0 & 0 & 0 & 0 & 0 \\\\\n",
        " 0 & 1 & 0 & 0 & 0 & 0 & 0 & 0 \\\\\n",
        " 0 & 0 & 1 & 0 & 0 & 0 & 0 & 0 \\\\\n",
        " 0 & 0 & 0 & 1 & 0 & 0 & 0 & 0 \\\\\n",
        " 0 & 0 & 0 & 0 & 1 & 0 & 0 & 0 \\\\\n",
        " 0 & 0 & 0 & 0 & 0 & 1 & 0 & 0 \\\\\n",
        " 0 & 0 & 0 & 0 & 0 & 0 & 1 & 0 \\\\\n",
        " 0 & 0 & 0 & 0 & 0 & 0 & 0 & 1 \\\\\n",
        "\\end{pmatrix}$\n",
        "</center>\n",
        "\n",
        "here each row corresponds to $|\\textbf{x},y\\rangle$ as input and each column corresponds to $|x,y\\oplus f(\\textbf{x})\\rangle = |x,y\\oplus 0\\rangle = |x,y\\rangle$ as output. This is clearly an identity matrix. So, we don't need any extra gate other than the H gate to implement this function, rather we will just pass the input as output stream."
      ]
    },
    {
      "cell_type": "code",
      "metadata": {
        "id": "CgNy9597f7BB",
        "colab_type": "code",
        "colab": {}
      },
      "source": [
        "q = QuantumRegister(3)\n",
        "c = ClassicalRegister(3)\n",
        "\n",
        "qc = QuantumCircuit(q,c)"
      ],
      "execution_count": 0,
      "outputs": []
    },
    {
      "cell_type": "code",
      "metadata": {
        "id": "0MHSnkllULWz",
        "colab_type": "code",
        "colab": {}
      },
      "source": [
        "qc.x(q[2])\n",
        "qc.h(q[0])\n",
        "qc.h(q[1])\n",
        "qc.h(q[2])\n",
        "\n",
        "# the implementation of the function f(x)\n",
        "# as the unitary matrix is an identity matrix, it doesn't need any more gate\n",
        "#\n",
        "\n",
        "qc.h(q[0])\n",
        "qc.h(q[1])"
      ],
      "execution_count": 0,
      "outputs": []
    },
    {
      "cell_type": "code",
      "metadata": {
        "id": "W-HPjW-IV10f",
        "colab_type": "code",
        "colab": {}
      },
      "source": [
        "qc.measure(q[0],c[0])\n",
        "qc.measure(q[1],c[1])\n",
        "qc.measure(q[2],c[2])"
      ],
      "execution_count": 0,
      "outputs": []
    },
    {
      "cell_type": "code",
      "metadata": {
        "id": "gGsdjZBJXeSJ",
        "colab_type": "code",
        "colab": {
          "base_uri": "https://localhost:8080/",
          "height": 248
        },
        "outputId": "5323b8a7-30c0-451a-8713-e65ac2ad2f5a"
      },
      "source": [
        "backend = Aer.get_backend('qasm_simulator')\n",
        "job = execute(qc, backend, shots=1000)\n",
        "result = job.result()\n",
        "count =result.get_counts()\n",
        "print(count)\n",
        "qc.draw(output='mpl')"
      ],
      "execution_count": 7,
      "outputs": [
        {
          "output_type": "stream",
          "text": [
            "{'100': 479, '000': 521}\n"
          ],
          "name": "stdout"
        },
        {
          "output_type": "execute_result",
          "data": {
            "image/png": "[encoded data removed]",
            "text/plain": [
              "<Figure size 468.356x264.88 with 1 Axes>"
            ]
          },
          "metadata": {
            "tags": []
          },
          "execution_count": 7
        }
      ]
    },
    {
      "cell_type": "markdown",
      "metadata": {
        "id": "auoostZlbkKR",
        "colab_type": "text"
      },
      "source": [
        "Here all possible inputs of $|\\textbf{x}\\rangle = |x_0x_1\\rangle$ will map into $|1\\rangle$ as output. The function is defiined as below:\n",
        "\n",
        "<center> $f(\\textbf{x}): \\{0,1\\}^2 \\rightarrow \\{1\\}$ </center>\n",
        "\n",
        "This produces the unitary matrix as below thinking the domain for $|y\\rangle$ as $\\{0,1\\}$.\n",
        "\n",
        "<center>\n",
        "$\\begin{pmatrix}\n",
        " 0 & 1 & 0 & 0 & 0 & 0 & 0 & 0 \\\\\n",
        " 1 & 0 & 0 & 0 & 0 & 0 & 0 & 0 \\\\\n",
        " 0 & 0 & 0 & 1 & 0 & 0 & 0 & 0 \\\\\n",
        " 0 & 0 & 1 & 0 & 0 & 0 & 0 & 0 \\\\\n",
        " 0 & 0 & 0 & 0 & 0 & 1 & 0 & 0 \\\\\n",
        " 0 & 0 & 0 & 0 & 1 & 0 & 0 & 0 \\\\\n",
        " 0 & 0 & 0 & 0 & 0 & 0 & 0 & 1 \\\\\n",
        " 0 & 0 & 0 & 0 & 0 & 0 & 1 & 0 \\\\\n",
        "\\end{pmatrix}$\n",
        "</center>\n",
        "\n",
        "here each row corresponds to $|\\textbf{x},y\\rangle$ as input and each column corresponds to $|x,y\\oplus f(\\textbf{x})\\rangle = |x,y\\oplus 1\\rangle = |x,\\overline{y}\\rangle$ as output. This is clearly an identity matrix. So, we don't need any extra gate other than the H gate to implement this function, rather we will just pass the input as output stream."
      ]
    },
    {
      "cell_type": "code",
      "metadata": {
        "id": "3RiGmHzdXmOU",
        "colab_type": "code",
        "colab": {}
      },
      "source": [
        "q = QuantumRegister(3)\n",
        "c = ClassicalRegister(3)\n",
        "\n",
        "qc = QuantumCircuit(q,c)"
      ],
      "execution_count": 0,
      "outputs": []
    },
    {
      "cell_type": "code",
      "metadata": {
        "id": "TEB2k7vwluwx",
        "colab_type": "code",
        "colab": {
          "base_uri": "https://localhost:8080/",
          "height": 34
        },
        "outputId": "2b051fd7-32bb-425e-f1fa-dfe0c79e837d"
      },
      "source": [
        "qc.x(q[2])\n",
        "qc.h(q[0])\n",
        "qc.h(q[1])\n",
        "qc.h(q[2])\n",
        "\n",
        "# the implementation of the function f(x)\n",
        "# the funtion just toggles the bottom output. So we applied a X gate to y.\n",
        "qc.x(q[2])\n",
        "#\n",
        "\n",
        "qc.h(q[0])\n",
        "qc.h(q[1])"
      ],
      "execution_count": 9,
      "outputs": [
        {
          "output_type": "execute_result",
          "data": {
            "text/plain": [
              "<qiskit.circuit.instructionset.InstructionSet at 0x7fcfce4530b8>"
            ]
          },
          "metadata": {
            "tags": []
          },
          "execution_count": 9
        }
      ]
    },
    {
      "cell_type": "code",
      "metadata": {
        "id": "BHPpYKhumY0M",
        "colab_type": "code",
        "colab": {
          "base_uri": "https://localhost:8080/",
          "height": 34
        },
        "outputId": "c46b9c28-7e3a-4989-84b7-b8aee95528c9"
      },
      "source": [
        "qc.measure(q[0],c[0])\n",
        "qc.measure(q[1],c[1])\n",
        "qc.measure(q[2],c[2])"
      ],
      "execution_count": 10,
      "outputs": [
        {
          "output_type": "execute_result",
          "data": {
            "text/plain": [
              "<qiskit.circuit.instructionset.InstructionSet at 0x7fcfce435d68>"
            ]
          },
          "metadata": {
            "tags": []
          },
          "execution_count": 10
        }
      ]
    },
    {
      "cell_type": "code",
      "metadata": {
        "id": "5DycAcFOmfEy",
        "colab_type": "code",
        "colab": {
          "base_uri": "https://localhost:8080/",
          "height": 248
        },
        "outputId": "35855f8d-f995-44bb-f0c0-dde405d9f5e7"
      },
      "source": [
        "backend = Aer.get_backend('qasm_simulator')\n",
        "job = execute(qc, backend, shots=1000)\n",
        "result = job.result()\n",
        "count =result.get_counts()\n",
        "print(count)\n",
        "qc.draw(output='mpl')"
      ],
      "execution_count": 11,
      "outputs": [
        {
          "output_type": "stream",
          "text": [
            "{'100': 476, '000': 524}\n"
          ],
          "name": "stdout"
        },
        {
          "output_type": "execute_result",
          "data": {
            "image/png": "[encoded data removed]",
            "text/plain": [
              "<Figure size 528.556x264.88 with 1 Axes>"
            ]
          },
          "metadata": {
            "tags": []
          },
          "execution_count": 11
        }
      ]
    },
    {
      "cell_type": "markdown",
      "metadata": {
        "id": "JylHuqj9os_D",
        "colab_type": "text"
      },
      "source": [
        "#Balanced Function\n",
        "\n",
        "As we have taken $|\\textbf{x}\\rangle$ as 2 bits, there are 6 possible balanced functions. Each of them are implemented below:"
      ]
    },
    {
      "cell_type": "markdown",
      "metadata": {
        "id": "nTbnH6rDpBr5",
        "colab_type": "text"
      },
      "source": [
        "Let's assume the function is defined as below:\n",
        "\n",
        "<center> $f(\\textbf{x}): \\{0,1\\}^2 \\rightarrow \\{0,1\\}$ </center>\n",
        "\n",
        "and\n",
        "\n",
        "<center> $f(|00\\rangle) = f(|01\\rangle) = |0\\rangle $ </center>\n",
        "<center> $f(|10\\rangle) = f(|11\\rangle) = |1\\rangle $ </center>\n",
        "\n",
        "From these input output pairs we can see that by inspection, the output of the function is same as $|x_0\\rangle$ qubit. So, we can place a $C_x$ gate between $|x_0\\rangle$ and $|y\\rangle$ where $|x_0\\rangle$ is the controlling bit which will produce the same output as $|y\\oplus f(\\textbf{x})\\rangle$."
      ]
    },
    {
      "cell_type": "code",
      "metadata": {
        "id": "YCuNcSR7mi_p",
        "colab_type": "code",
        "colab": {}
      },
      "source": [
        "q = QuantumRegister(3)\n",
        "c = ClassicalRegister(3)\n",
        "\n",
        "qc = QuantumCircuit(q,c)"
      ],
      "execution_count": 0,
      "outputs": []
    },
    {
      "cell_type": "code",
      "metadata": {
        "id": "YmtmcMp5u-J6",
        "colab_type": "code",
        "colab": {
          "base_uri": "https://localhost:8080/",
          "height": 34
        },
        "outputId": "3a33d0d1-ef23-42be-e821-715c73ead8e4"
      },
      "source": [
        "qc.x(q[2])\n",
        "qc.h(q[0])\n",
        "qc.h(q[1])\n",
        "qc.h(q[2])\n",
        "\n",
        "# the implementation of the function f(x)\n",
        "# the output of the function is same as x0. So we applied a CX gate between x0 and y.\n",
        "qc.cx(q[0],q[2])\n",
        "#\n",
        "\n",
        "qc.h(q[0])\n",
        "qc.h(q[1])"
      ],
      "execution_count": 13,
      "outputs": [
        {
          "output_type": "execute_result",
          "data": {
            "text/plain": [
              "<qiskit.circuit.instructionset.InstructionSet at 0x7fcfce3b0438>"
            ]
          },
          "metadata": {
            "tags": []
          },
          "execution_count": 13
        }
      ]
    },
    {
      "cell_type": "code",
      "metadata": {
        "id": "Ykqn9ibzvvX2",
        "colab_type": "code",
        "colab": {
          "base_uri": "https://localhost:8080/",
          "height": 34
        },
        "outputId": "6d77e39f-feb8-4c69-d198-37fbe4295f43"
      },
      "source": [
        "qc.measure(q[0],c[0])\n",
        "qc.measure(q[1],c[1])\n",
        "qc.measure(q[2],c[2])"
      ],
      "execution_count": 14,
      "outputs": [
        {
          "output_type": "execute_result",
          "data": {
            "text/plain": [
              "<qiskit.circuit.instructionset.InstructionSet at 0x7fcfce41ef98>"
            ]
          },
          "metadata": {
            "tags": []
          },
          "execution_count": 14
        }
      ]
    },
    {
      "cell_type": "code",
      "metadata": {
        "id": "z8C2AmxZvz4j",
        "colab_type": "code",
        "colab": {
          "base_uri": "https://localhost:8080/",
          "height": 248
        },
        "outputId": "603169c3-b88c-46ee-9084-6d98301cca2a"
      },
      "source": [
        "backend = Aer.get_backend('qasm_simulator')\n",
        "job = execute(qc, backend, shots=1000)\n",
        "result = job.result()\n",
        "count =result.get_counts()\n",
        "print(count)\n",
        "qc.draw(output='mpl')"
      ],
      "execution_count": 15,
      "outputs": [
        {
          "output_type": "stream",
          "text": [
            "{'101': 513, '001': 487}\n"
          ],
          "name": "stdout"
        },
        {
          "output_type": "execute_result",
          "data": {
            "image/png": "[encoded data removed]",
            "text/plain": [
              "<Figure size 528.556x264.88 with 1 Axes>"
            ]
          },
          "metadata": {
            "tags": []
          },
          "execution_count": 15
        }
      ]
    },
    {
      "cell_type": "markdown",
      "metadata": {
        "id": "2l17OnRixSVZ",
        "colab_type": "text"
      },
      "source": [
        "Let's assume the function is defined as below:\n",
        "\n",
        "<center> $f(\\textbf{x}): \\{0,1\\}^2 \\rightarrow \\{0,1\\}$ </center>\n",
        "\n",
        "and\n",
        "\n",
        "<center> $f(|00\\rangle) = f(|01\\rangle) = |1\\rangle $ </center>\n",
        "<center> $f(|10\\rangle) = f(|11\\rangle) = |0\\rangle $ </center>\n",
        "\n",
        "From these input output pairs we can see that by inspection, the inverse of the output of the function is same as $|x_0\\rangle$ qubit. So, we can place a $C_x$ gate between $|\\overline{x_0}\\rangle$ and $|y\\rangle$ where $|\\overline{x_0}\\rangle$ is the controlling bit which will produce the same output as $|y\\oplus f(\\textbf{x})\\rangle$."
      ]
    },
    {
      "cell_type": "code",
      "metadata": {
        "id": "wgX57pLNv3Wq",
        "colab_type": "code",
        "colab": {}
      },
      "source": [
        "q = QuantumRegister(3)\n",
        "c = ClassicalRegister(3)\n",
        "\n",
        "qc = QuantumCircuit(q,c)"
      ],
      "execution_count": 0,
      "outputs": []
    },
    {
      "cell_type": "code",
      "metadata": {
        "id": "3syTuPBGx9yc",
        "colab_type": "code",
        "colab": {
          "base_uri": "https://localhost:8080/",
          "height": 34
        },
        "outputId": "db185368-f62c-42b2-a0d9-0c7156f13a23"
      },
      "source": [
        "qc.x(q[2])\n",
        "qc.h(q[0])\n",
        "qc.h(q[1])\n",
        "qc.h(q[2])\n",
        "\n",
        "# the implementation of the function f(x)\n",
        "# the output of the function is same as the inverse of x0. So we applied an X gate to x0 and then CX gate between x0 and y.\n",
        "qc.x(q[0])\n",
        "qc.cx(q[0],q[2])\n",
        "#\n",
        "\n",
        "qc.h(q[0])\n",
        "qc.h(q[1])"
      ],
      "execution_count": 17,
      "outputs": [
        {
          "output_type": "execute_result",
          "data": {
            "text/plain": [
              "<qiskit.circuit.instructionset.InstructionSet at 0x7fcfce310710>"
            ]
          },
          "metadata": {
            "tags": []
          },
          "execution_count": 17
        }
      ]
    },
    {
      "cell_type": "code",
      "metadata": {
        "id": "dNjHhRlPySAq",
        "colab_type": "code",
        "colab": {
          "base_uri": "https://localhost:8080/",
          "height": 34
        },
        "outputId": "7f35ae3d-110d-4939-8c29-a2068ee109f1"
      },
      "source": [
        "qc.measure(q[0],c[0])\n",
        "qc.measure(q[1],c[1])\n",
        "qc.measure(q[2],c[2])"
      ],
      "execution_count": 18,
      "outputs": [
        {
          "output_type": "execute_result",
          "data": {
            "text/plain": [
              "<qiskit.circuit.instructionset.InstructionSet at 0x7fcfce3101d0>"
            ]
          },
          "metadata": {
            "tags": []
          },
          "execution_count": 18
        }
      ]
    },
    {
      "cell_type": "code",
      "metadata": {
        "id": "Fl_LYvVHyV_D",
        "colab_type": "code",
        "colab": {
          "base_uri": "https://localhost:8080/",
          "height": 248
        },
        "outputId": "a6d5281c-037c-461e-d55d-7741e80fed86"
      },
      "source": [
        "backend = Aer.get_backend('qasm_simulator')\n",
        "job = execute(qc, backend, shots=1000)\n",
        "result = job.result()\n",
        "count =result.get_counts()\n",
        "print(count)\n",
        "qc.draw(output='mpl')"
      ],
      "execution_count": 19,
      "outputs": [
        {
          "output_type": "stream",
          "text": [
            "{'101': 515, '001': 485}\n"
          ],
          "name": "stdout"
        },
        {
          "output_type": "execute_result",
          "data": {
            "image/png": "[encoded data removed]",
            "text/plain": [
              "<Figure size 528.556x264.88 with 1 Axes>"
            ]
          },
          "metadata": {
            "tags": []
          },
          "execution_count": 19
        }
      ]
    },
    {
      "cell_type": "markdown",
      "metadata": {
        "id": "uw0xph7EynW8",
        "colab_type": "text"
      },
      "source": [
        "Let's assume the function is defined as below:\n",
        "\n",
        "<center> $f(\\textbf{x}): \\{0,1\\}^2 \\rightarrow \\{0,1\\}$ </center>\n",
        "\n",
        "and\n",
        "\n",
        "<center> $f(|00\\rangle) = f(|10\\rangle) = |0\\rangle $ </center>\n",
        "<center> $f(|01\\rangle) = f(|11\\rangle) = |1\\rangle $ </center>\n",
        "\n",
        "From these input output pairs we can see that by inspection, the output of the function is same as $|x_1\\rangle$ qubit. So, we can place a $C_x$ gate between $|x_1\\rangle$ and $|y\\rangle$ where $|x_1\\rangle$ is the controlling bit which will produce the same output as $|y\\oplus f(\\textbf{x})\\rangle$."
      ]
    },
    {
      "cell_type": "code",
      "metadata": {
        "id": "L_Kc5gCJyZ3n",
        "colab_type": "code",
        "colab": {}
      },
      "source": [
        "q = QuantumRegister(3)\n",
        "c = ClassicalRegister(3)\n",
        "\n",
        "qc = QuantumCircuit(q,c)"
      ],
      "execution_count": 0,
      "outputs": []
    },
    {
      "cell_type": "code",
      "metadata": {
        "id": "dt3HXard1Aro",
        "colab_type": "code",
        "colab": {
          "base_uri": "https://localhost:8080/",
          "height": 34
        },
        "outputId": "83f0a9bf-0c6f-4ffa-8e89-ce5afcabe3b3"
      },
      "source": [
        "qc.x(q[2])\n",
        "qc.h(q[0])\n",
        "qc.h(q[1])\n",
        "qc.h(q[2])\n",
        "\n",
        "# the implementation of the function f(x)\n",
        "# the output of the function is same as x1. So we applied a CX gate between x1 and y.\n",
        "qc.cx(q[1],q[2])\n",
        "#\n",
        "\n",
        "qc.h(q[0])\n",
        "qc.h(q[1])"
      ],
      "execution_count": 21,
      "outputs": [
        {
          "output_type": "execute_result",
          "data": {
            "text/plain": [
              "<qiskit.circuit.instructionset.InstructionSet at 0x7fcfce24d550>"
            ]
          },
          "metadata": {
            "tags": []
          },
          "execution_count": 21
        }
      ]
    },
    {
      "cell_type": "code",
      "metadata": {
        "id": "2zQGq42e1L1N",
        "colab_type": "code",
        "colab": {
          "base_uri": "https://localhost:8080/",
          "height": 34
        },
        "outputId": "22bd5d56-0c0f-49a4-9ecb-797c9d28ca7c"
      },
      "source": [
        "qc.measure(q[0],c[0])\n",
        "qc.measure(q[1],c[1])\n",
        "qc.measure(q[2],c[2])"
      ],
      "execution_count": 22,
      "outputs": [
        {
          "output_type": "execute_result",
          "data": {
            "text/plain": [
              "<qiskit.circuit.instructionset.InstructionSet at 0x7fcfce1fe160>"
            ]
          },
          "metadata": {
            "tags": []
          },
          "execution_count": 22
        }
      ]
    },
    {
      "cell_type": "code",
      "metadata": {
        "id": "ETsGqxHG1Pls",
        "colab_type": "code",
        "colab": {
          "base_uri": "https://localhost:8080/",
          "height": 248
        },
        "outputId": "55d30e5c-a2b8-40df-8d8b-7541d513ea01"
      },
      "source": [
        "backend = Aer.get_backend('qasm_simulator')\n",
        "job = execute(qc, backend, shots=1000)\n",
        "result = job.result()\n",
        "count =result.get_counts()\n",
        "print(count)\n",
        "qc.draw(output='mpl')"
      ],
      "execution_count": 23,
      "outputs": [
        {
          "output_type": "stream",
          "text": [
            "{'010': 498, '110': 502}\n"
          ],
          "name": "stdout"
        },
        {
          "output_type": "execute_result",
          "data": {
            "image/png": "[encoded data removed]",
            "text/plain": [
              "<Figure size 528.556x264.88 with 1 Axes>"
            ]
          },
          "metadata": {
            "tags": []
          },
          "execution_count": 23
        }
      ]
    },
    {
      "cell_type": "markdown",
      "metadata": {
        "id": "c36cEEYa1Z67",
        "colab_type": "text"
      },
      "source": [
        "Let's assume the function is defined as below:\n",
        "\n",
        "<center> $f(\\textbf{x}): \\{0,1\\}^2 \\rightarrow \\{0,1\\}$ </center>\n",
        "\n",
        "and\n",
        "\n",
        "<center> $f(|00\\rangle) = f(|10\\rangle) = |1\\rangle $ </center>\n",
        "<center> $f(|01\\rangle) = f(|11\\rangle) = |0\\rangle $ </center>\n",
        "\n",
        "From these input output pairs we can see that by inspection, the inverse of the output of the function is same as $|x_1\\rangle$ qubit. So, we can place a $C_x$ gate between $|\\overline{x_1}\\rangle$ and $|y\\rangle$ where $|\\overline{x_1}\\rangle$ is the controlling bit which will produce the same output as $|y\\oplus f(\\textbf{x})\\rangle$."
      ]
    },
    {
      "cell_type": "code",
      "metadata": {
        "id": "ctL4pVuc1TU0",
        "colab_type": "code",
        "colab": {}
      },
      "source": [
        "q = QuantumRegister(3)\n",
        "c = ClassicalRegister(3)\n",
        "\n",
        "qc = QuantumCircuit(q,c)"
      ],
      "execution_count": 0,
      "outputs": []
    },
    {
      "cell_type": "code",
      "metadata": {
        "id": "k0HkwZYM1xOj",
        "colab_type": "code",
        "colab": {
          "base_uri": "https://localhost:8080/",
          "height": 34
        },
        "outputId": "e35bbdda-b2e1-4a13-c363-2071880e86a4"
      },
      "source": [
        "qc.x(q[2])\n",
        "qc.h(q[0])\n",
        "qc.h(q[1])\n",
        "qc.h(q[2])\n",
        "\n",
        "# the implementation of the function f(x)\n",
        "# the output of the function is same as inverse of x1. So we applied an X gate to x1 and then a CX gate between x1 and y.\n",
        "qc.x(q[1])\n",
        "qc.cx(q[1],q[2])\n",
        "#\n",
        "\n",
        "qc.h(q[0])\n",
        "qc.h(q[1])"
      ],
      "execution_count": 25,
      "outputs": [
        {
          "output_type": "execute_result",
          "data": {
            "text/plain": [
              "<qiskit.circuit.instructionset.InstructionSet at 0x7fcfce133a58>"
            ]
          },
          "metadata": {
            "tags": []
          },
          "execution_count": 25
        }
      ]
    },
    {
      "cell_type": "code",
      "metadata": {
        "id": "Iyoiew1W2mGg",
        "colab_type": "code",
        "colab": {
          "base_uri": "https://localhost:8080/",
          "height": 34
        },
        "outputId": "eecf6e54-855b-4ddd-de2e-755f37bcebbb"
      },
      "source": [
        "qc.measure(q[0],c[0])\n",
        "qc.measure(q[1],c[1])\n",
        "qc.measure(q[2],c[2])"
      ],
      "execution_count": 26,
      "outputs": [
        {
          "output_type": "execute_result",
          "data": {
            "text/plain": [
              "<qiskit.circuit.instructionset.InstructionSet at 0x7fcfce1334a8>"
            ]
          },
          "metadata": {
            "tags": []
          },
          "execution_count": 26
        }
      ]
    },
    {
      "cell_type": "code",
      "metadata": {
        "id": "GafNcSrA2p8z",
        "colab_type": "code",
        "colab": {
          "base_uri": "https://localhost:8080/",
          "height": 248
        },
        "outputId": "60ed2f13-369e-4206-baab-dab4b503b340"
      },
      "source": [
        "backend = Aer.get_backend('qasm_simulator')\n",
        "job = execute(qc, backend, shots=1000)\n",
        "result = job.result()\n",
        "count =result.get_counts()\n",
        "print(count)\n",
        "qc.draw(output='mpl')"
      ],
      "execution_count": 27,
      "outputs": [
        {
          "output_type": "stream",
          "text": [
            "{'010': 478, '110': 522}\n"
          ],
          "name": "stdout"
        },
        {
          "output_type": "execute_result",
          "data": {
            "image/png": "[encoded data removed]",
            "text/plain": [
              "<Figure size 528.556x264.88 with 1 Axes>"
            ]
          },
          "metadata": {
            "tags": []
          },
          "execution_count": 27
        }
      ]
    },
    {
      "cell_type": "markdown",
      "metadata": {
        "id": "jpGphTV26XNo",
        "colab_type": "text"
      },
      "source": [
        "Let's assume the function is defined as below:\n",
        "\n",
        "<center> $f(\\textbf{x}): \\{0,1\\}^2 \\rightarrow \\{0,1\\}$ </center>\n",
        "\n",
        "and\n",
        "\n",
        "<center> $f(|00\\rangle) = f(|11\\rangle) = |0\\rangle $ </center>\n",
        "<center> $f(|01\\rangle) = f(|10\\rangle) = |1\\rangle $ </center>\n",
        "\n",
        "From these input output pairs we can see that by inspection, the output of the function is same as $|x_0 \\oplus x_1\\rangle$ qubit. So, we can place a $C_x$ gate between $|x_0\\rangle$ and $|x_1\\rangle$ and another between $|x_1\\rangle$ and $|y\\rangle$  where $|x_0\\rangle$ is the controlling bit for the first $C_x$ gate and $|x_1\\rangle$ is the controlling bit of the second $C_x$ gate."
      ]
    },
    {
      "cell_type": "code",
      "metadata": {
        "id": "UUL8sKw18GDe",
        "colab_type": "code",
        "colab": {}
      },
      "source": [
        "q = QuantumRegister(3)\n",
        "c = ClassicalRegister(3)\n",
        "\n",
        "qc = QuantumCircuit(q,c)"
      ],
      "execution_count": 0,
      "outputs": []
    },
    {
      "cell_type": "code",
      "metadata": {
        "id": "dS7cKlqB8JbL",
        "colab_type": "code",
        "colab": {
          "base_uri": "https://localhost:8080/",
          "height": 34
        },
        "outputId": "e445d380-5a03-4e49-e43e-4a23a2f62bdb"
      },
      "source": [
        "qc.x(q[2])\n",
        "qc.h(q[0])\n",
        "qc.h(q[1])\n",
        "qc.h(q[2])\n",
        "\n",
        "# the implementation of the function f(x)\n",
        "# the output of the function is same as XOR of x0 and x1. So we applied a CX gate between x0 and x1 and then another CX gate between x1 and y.\n",
        "qc.cx(q[0],q[1])\n",
        "qc.cx(q[1],q[2])\n",
        "#\n",
        "\n",
        "qc.h(q[0])\n",
        "qc.h(q[1])"
      ],
      "execution_count": 29,
      "outputs": [
        {
          "output_type": "execute_result",
          "data": {
            "text/plain": [
              "<qiskit.circuit.instructionset.InstructionSet at 0x7fcfce0fd9b0>"
            ]
          },
          "metadata": {
            "tags": []
          },
          "execution_count": 29
        }
      ]
    },
    {
      "cell_type": "code",
      "metadata": {
        "id": "OIZK2Cf48nsh",
        "colab_type": "code",
        "colab": {
          "base_uri": "https://localhost:8080/",
          "height": 34
        },
        "outputId": "56457218-eeeb-41e1-83a5-1f3e7659e47e"
      },
      "source": [
        "qc.measure(q[0],c[0])\n",
        "qc.measure(q[1],c[1])\n",
        "qc.measure(q[2],c[2])"
      ],
      "execution_count": 30,
      "outputs": [
        {
          "output_type": "execute_result",
          "data": {
            "text/plain": [
              "<qiskit.circuit.instructionset.InstructionSet at 0x7fcfce1332b0>"
            ]
          },
          "metadata": {
            "tags": []
          },
          "execution_count": 30
        }
      ]
    },
    {
      "cell_type": "code",
      "metadata": {
        "id": "MZlFPChv8q6q",
        "colab_type": "code",
        "colab": {
          "base_uri": "https://localhost:8080/",
          "height": 248
        },
        "outputId": "cef4dff0-a57b-4ec7-9983-abc58eb8cb97"
      },
      "source": [
        "backend = Aer.get_backend('qasm_simulator')\n",
        "job = execute(qc, backend, shots=1000)\n",
        "result = job.result()\n",
        "count =result.get_counts()\n",
        "print(count)\n",
        "qc.draw(output='mpl')"
      ],
      "execution_count": 31,
      "outputs": [
        {
          "output_type": "stream",
          "text": [
            "{'010': 469, '110': 531}\n"
          ],
          "name": "stdout"
        },
        {
          "output_type": "execute_result",
          "data": {
            "image/png": "[encoded data removed]",
            "text/plain": [
              "<Figure size 528.556x264.88 with 1 Axes>"
            ]
          },
          "metadata": {
            "tags": []
          },
          "execution_count": 31
        }
      ]
    },
    {
      "cell_type": "markdown",
      "metadata": {
        "id": "R850iUUf8xe9",
        "colab_type": "text"
      },
      "source": [
        "Let's assume the function is defined as below:\n",
        "\n",
        "<center> $f(\\textbf{x}): \\{0,1\\}^2 \\rightarrow \\{0,1\\}$ </center>\n",
        "\n",
        "and\n",
        "\n",
        "<center> $f(|00\\rangle) = f(|11\\rangle) = |1\\rangle $ </center>\n",
        "<center> $f(|01\\rangle) = f(|10\\rangle) = |0\\rangle $ </center>\n",
        "\n",
        "From these input output pairs we can see that by inspection, the output of the function is same as $|\\overline{x_0 \\oplus x_1}\\rangle$ qubit. So, we can place a $C_x$ gate between $|x_0\\rangle$ and $|x_1\\rangle$, after that an $X$ gate to $x_1$ and finally another $C_x$ gate between $|x_1\\rangle$ and $|y\\rangle$  where $|x_0\\rangle$ is the controlling bit for the first $C_x$ gate and $|x_1\\rangle$ is the controlling bit of the second $C_x$ gate."
      ]
    },
    {
      "cell_type": "code",
      "metadata": {
        "id": "7fMs7ul38t5n",
        "colab_type": "code",
        "colab": {}
      },
      "source": [
        "q = QuantumRegister(3)\n",
        "c = ClassicalRegister(3)\n",
        "\n",
        "qc = QuantumCircuit(q,c)"
      ],
      "execution_count": 0,
      "outputs": []
    },
    {
      "cell_type": "code",
      "metadata": {
        "id": "G_0MkWyT9rjA",
        "colab_type": "code",
        "colab": {
          "base_uri": "https://localhost:8080/",
          "height": 34
        },
        "outputId": "2ccd6ae6-e6b0-4e49-fc30-ccf6f53f99b4"
      },
      "source": [
        "qc.x(q[2])\n",
        "qc.h(q[0])\n",
        "qc.h(q[1])\n",
        "qc.h(q[2])\n",
        "\n",
        "# the implementation of the function f(x)\n",
        "# the output of the function is same as the inverse of the XOR of x0 and x1. So we applied a CX gate between x0 and x1 and after that a X gate to x1 and then another CX gate between x1 and y.\n",
        "qc.cx(q[0],q[1])\n",
        "qc.x(q[1])\n",
        "qc.cx(q[1],q[2])\n",
        "#\n",
        "\n",
        "qc.h(q[0])\n",
        "qc.h(q[1])"
      ],
      "execution_count": 33,
      "outputs": [
        {
          "output_type": "execute_result",
          "data": {
            "text/plain": [
              "<qiskit.circuit.instructionset.InstructionSet at 0x7fcfce060b38>"
            ]
          },
          "metadata": {
            "tags": []
          },
          "execution_count": 33
        }
      ]
    },
    {
      "cell_type": "code",
      "metadata": {
        "id": "cluzU9dR976i",
        "colab_type": "code",
        "colab": {
          "base_uri": "https://localhost:8080/",
          "height": 34
        },
        "outputId": "2f70db62-19c8-4591-f4ca-4e3ff162dd5c"
      },
      "source": [
        "qc.measure(q[0],c[0])\n",
        "qc.measure(q[1],c[1])\n",
        "qc.measure(q[2],c[2])"
      ],
      "execution_count": 34,
      "outputs": [
        {
          "output_type": "execute_result",
          "data": {
            "text/plain": [
              "<qiskit.circuit.instructionset.InstructionSet at 0x7fcfce01a898>"
            ]
          },
          "metadata": {
            "tags": []
          },
          "execution_count": 34
        }
      ]
    },
    {
      "cell_type": "code",
      "metadata": {
        "id": "LS7HUYQY-NOo",
        "colab_type": "code",
        "colab": {
          "base_uri": "https://localhost:8080/",
          "height": 248
        },
        "outputId": "b4cfa922-8ab0-4ed1-a849-711ff044470e"
      },
      "source": [
        "backend = Aer.get_backend('qasm_simulator')\n",
        "job = execute(qc, backend, shots=1000)\n",
        "result = job.result()\n",
        "count =result.get_counts()\n",
        "print(count)\n",
        "qc.draw(output='mpl')"
      ],
      "execution_count": 35,
      "outputs": [
        {
          "output_type": "stream",
          "text": [
            "{'010': 488, '110': 512}\n"
          ],
          "name": "stdout"
        },
        {
          "output_type": "execute_result",
          "data": {
            "image/png": "[encoded data removed]",
            "text/plain": [
              "<Figure size 588.756x264.88 with 1 Axes>"
            ]
          },
          "metadata": {
            "tags": []
          },
          "execution_count": 35
        }
      ]
    }
  ]
}
