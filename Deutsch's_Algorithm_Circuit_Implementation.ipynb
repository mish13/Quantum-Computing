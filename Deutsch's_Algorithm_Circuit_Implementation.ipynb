{
  "nbformat": 4,
  "nbformat_minor": 0,
  "metadata": {
    "colab": {
      "name": "Deutsch's Algorithm Circuit Implementation.ipynb",
      "provenance": [],
      "collapsed_sections": []
    },
    "kernelspec": {
      "name": "python3",
      "display_name": "Python 3"
    }
  },
  "cells": [
    {
      "cell_type": "code",
      "metadata": {
        "id": "Mjksifp5r_1c",
        "colab_type": "code",
        "colab": {}
      },
      "source": [
        "!pip install qiskit"
      ],
      "execution_count": 0,
      "outputs": []
    },
    {
      "cell_type": "code",
      "metadata": {
        "id": "s-HPysM9rwk7",
        "colab_type": "code",
        "colab": {}
      },
      "source": [
        "from qiskit import QuantumRegister, ClassicalRegister, QuantumCircuit\n",
        "from qiskit import IBMQ, Aer, execute\n",
        "\n",
        "IBMQ.save_account('Token')  #Give the token value form the id\n",
        "IBMQ.load_account()"
      ],
      "execution_count": 0,
      "outputs": []
    },
    {
      "cell_type": "markdown",
      "metadata": {
        "id": "iakVaQD41fS3",
        "colab_type": "text"
      },
      "source": [
        "#Implementation of Deutsch's Algorithm\n",
        "For each of the functions we have two inputs $|x\\rangle$ and $|y\\rangle$ and two outputs $|x\\rangle$ and $|y\\oplus f(x) \\rangle$. We set $|x,y\\rangle = |0,1\\rangle$ and then apply H-gate to both of the inputs and after that the unitary function is applied. Lastly we apply another H-gate to the upper output to leave $|x\\rangle$ as it is same as the input. Then we measure both of the outputs."
      ]
    },
    {
      "cell_type": "markdown",
      "metadata": {
        "id": "bt-zkJHNwtkI",
        "colab_type": "text"
      },
      "source": [
        "##Balanced Function:\n",
        "We will take three qubits here. The first one represents the input $|x\\rangle$, the second one is the output of the function $f(x)$ and the third one is the input $|y\\rangle$."
      ]
    },
    {
      "cell_type": "markdown",
      "metadata": {
        "id": "ajgNBWxmw1WL",
        "colab_type": "text"
      },
      "source": [
        "###When $f(x):\\{0,1\\} \\rightarrow \\{1,0\\} $ and\n",
        " $f(0)= 1\\\\\n",
        "          f(1)=0 $\n",
        " "
      ]
    },
    {
      "cell_type": "code",
      "metadata": {
        "id": "w6SkSJHjsUNz",
        "colab_type": "code",
        "colab": {}
      },
      "source": [
        "q = QuantumRegister(3)\n",
        "c = ClassicalRegister(2)\n",
        "\n",
        "qc = QuantumCircuit(q,c)"
      ],
      "execution_count": 0,
      "outputs": []
    },
    {
      "cell_type": "code",
      "metadata": {
        "id": "4zQDy8mf5maR",
        "colab_type": "code",
        "outputId": "72f3e720-38f6-4a9c-fc7a-2982ceda4018",
        "colab": {
          "base_uri": "https://localhost:8080/",
          "height": 34
        }
      },
      "source": [
        "qc.x(q[2])\n",
        "qc.h(q[0])\n",
        "qc.h(q[2])\n",
        "\n",
        "# the implementation of the function f(x)\n",
        "qc.cx(q[0],q[1])\n",
        "qc.x(q[1])\n",
        "qc.cx(q[1],q[2])\n",
        "#\n",
        "\n",
        "qc.h(q[0])"
      ],
      "execution_count": 0,
      "outputs": [
        {
          "output_type": "execute_result",
          "data": {
            "text/plain": [
              "<qiskit.circuit.instructionset.InstructionSet at 0x7f99353b5a90>"
            ]
          },
          "metadata": {
            "tags": []
          },
          "execution_count": 4
        }
      ]
    },
    {
      "cell_type": "code",
      "metadata": {
        "id": "BzyWrJm9vV-D",
        "colab_type": "code",
        "outputId": "96c8d791-51c3-4583-dc9e-d29b5358ee59",
        "colab": {
          "base_uri": "https://localhost:8080/",
          "height": 34
        }
      },
      "source": [
        "qc.measure(q[0],c[0])\n",
        "qc.measure(q[2],c[1])"
      ],
      "execution_count": 0,
      "outputs": [
        {
          "output_type": "execute_result",
          "data": {
            "text/plain": [
              "<qiskit.circuit.instructionset.InstructionSet at 0x7f99353b56d8>"
            ]
          },
          "metadata": {
            "tags": []
          },
          "execution_count": 5
        }
      ]
    },
    {
      "cell_type": "code",
      "metadata": {
        "id": "L0PmRTp3unnb",
        "colab_type": "code",
        "outputId": "4b20c111-f59f-4525-8b20-e864062b818b",
        "colab": {
          "base_uri": "https://localhost:8080/",
          "height": 248
        }
      },
      "source": [
        "backend = Aer.get_backend('qasm_simulator')\n",
        "job = execute(qc, backend, shots=1000)\n",
        "result = job.result()\n",
        "count =result.get_counts()\n",
        "print(count)\n",
        "qc.draw(output='mpl')"
      ],
      "execution_count": 0,
      "outputs": [
        {
          "output_type": "stream",
          "text": [
            "{'01': 253, '00': 238, '10': 254, '11': 255}\n"
          ],
          "name": "stdout"
        },
        {
          "output_type": "execute_result",
          "data": {
            "image/png": "[encoded data removed]",
            "text/plain": [
              "<Figure size 528.556x264.88 with 1 Axes>"
            ]
          },
          "metadata": {
            "tags": []
          },
          "execution_count": 6
        }
      ]
    },
    {
      "cell_type": "markdown",
      "metadata": {
        "id": "NP-q0_lozJGa",
        "colab_type": "text"
      },
      "source": [
        "###When $f(x):\\{0,1\\} \\rightarrow \\{1,0\\} $ and\n",
        " $f(0)= 0\\\\\n",
        "          f(1)=1 $"
      ]
    },
    {
      "cell_type": "code",
      "metadata": {
        "id": "Y7WXLCQjvCpK",
        "colab_type": "code",
        "colab": {}
      },
      "source": [
        "q = QuantumRegister(3)\n",
        "c = ClassicalRegister(2)\n",
        "\n",
        "qc = QuantumCircuit(q,c)\n"
      ],
      "execution_count": 0,
      "outputs": []
    },
    {
      "cell_type": "code",
      "metadata": {
        "id": "GANTFv8H5uGA",
        "colab_type": "code",
        "outputId": "43ffbd53-2643-4430-e7a7-06c87a403f6f",
        "colab": {
          "base_uri": "https://localhost:8080/",
          "height": 34
        }
      },
      "source": [
        "qc.x(q[2])\n",
        "qc.h(q[0])\n",
        "qc.h(q[2])\n",
        "\n",
        "# the implementation of the function f(x)\n",
        "qc.cx(q[0],q[1])\n",
        "qc.cx(q[1],q[2])\n",
        "#\n",
        "\n",
        "qc.h(q[0])"
      ],
      "execution_count": 0,
      "outputs": [
        {
          "output_type": "execute_result",
          "data": {
            "text/plain": [
              "<qiskit.circuit.instructionset.InstructionSet at 0x7f9935185940>"
            ]
          },
          "metadata": {
            "tags": []
          },
          "execution_count": 8
        }
      ]
    },
    {
      "cell_type": "code",
      "metadata": {
        "id": "Wl4US7Z7zRu1",
        "colab_type": "code",
        "outputId": "602d0dc5-2b61-4a98-85af-17920e358ff9",
        "colab": {
          "base_uri": "https://localhost:8080/",
          "height": 34
        }
      },
      "source": [
        "qc.measure(q[0],c[0])\n",
        "qc.measure(q[2],c[1])"
      ],
      "execution_count": 0,
      "outputs": [
        {
          "output_type": "execute_result",
          "data": {
            "text/plain": [
              "<qiskit.circuit.instructionset.InstructionSet at 0x7f9935185ef0>"
            ]
          },
          "metadata": {
            "tags": []
          },
          "execution_count": 9
        }
      ]
    },
    {
      "cell_type": "code",
      "metadata": {
        "id": "eCFvv52uzVkB",
        "colab_type": "code",
        "outputId": "365d345d-19ab-42fa-d97a-39d7e340b662",
        "colab": {
          "base_uri": "https://localhost:8080/",
          "height": 248
        }
      },
      "source": [
        "backend = Aer.get_backend('qasm_simulator')\n",
        "job = execute(qc, backend, shots=1000)\n",
        "result = job.result()\n",
        "count =result.get_counts()\n",
        "print(count)\n",
        "qc.draw(output='mpl')"
      ],
      "execution_count": 0,
      "outputs": [
        {
          "output_type": "stream",
          "text": [
            "{'01': 268, '00': 249, '10': 233, '11': 250}\n"
          ],
          "name": "stdout"
        },
        {
          "output_type": "execute_result",
          "data": {
            "image/png": "[encoded data removed]",
            "text/plain": [
              "<Figure size 468.356x264.88 with 1 Axes>"
            ]
          },
          "metadata": {
            "tags": []
          },
          "execution_count": 10
        }
      ]
    },
    {
      "cell_type": "markdown",
      "metadata": {
        "id": "qlQZ8oG85AQc",
        "colab_type": "text"
      },
      "source": [
        "##Constant Function:\n",
        "We will take four qubits here. The first one represents the input $|x\\rangle$, the second one is an auxiliary bit that is always set to $|0\\rangle$, the third one is the output of the function $f(x)$ and the last one is the input $|y\\rangle$."
      ]
    },
    {
      "cell_type": "markdown",
      "metadata": {
        "id": "HFggUVrE5IS3",
        "colab_type": "text"
      },
      "source": [
        "###When $f(x):\\{0,1\\} \\rightarrow \\{1,0\\} $ and\n",
        " $f(0)= 0\\\\\n",
        "          f(1)=0 $"
      ]
    },
    {
      "cell_type": "code",
      "metadata": {
        "id": "JARdGThXzY-T",
        "colab_type": "code",
        "colab": {}
      },
      "source": [
        "q = QuantumRegister(4)\n",
        "c = ClassicalRegister(2)\n",
        "\n",
        "qc = QuantumCircuit(q,c)"
      ],
      "execution_count": 0,
      "outputs": []
    },
    {
      "cell_type": "code",
      "metadata": {
        "id": "MRT3Dfwm7WKI",
        "colab_type": "code",
        "outputId": "0954d79e-ce8a-466f-c503-bef4f6ab954f",
        "colab": {
          "base_uri": "https://localhost:8080/",
          "height": 34
        }
      },
      "source": [
        "qc.x(q[3])\n",
        "qc.h(q[0])\n",
        "qc.h(q[3])\n",
        "\n",
        "# the implementation of the function f(x)\n",
        "qc.ccx(q[0],q[1],q[2])\n",
        "qc.cx(q[2],q[3])\n",
        "#\n",
        "\n",
        "qc.h(q[0])"
      ],
      "execution_count": 0,
      "outputs": [
        {
          "output_type": "execute_result",
          "data": {
            "text/plain": [
              "<qiskit.circuit.instructionset.InstructionSet at 0x7f993486d860>"
            ]
          },
          "metadata": {
            "tags": []
          },
          "execution_count": 12
        }
      ]
    },
    {
      "cell_type": "code",
      "metadata": {
        "id": "qDa7hFJF_fa_",
        "colab_type": "code",
        "outputId": "31963873-b6c2-4640-e554-bea4cea09af9",
        "colab": {
          "base_uri": "https://localhost:8080/",
          "height": 34
        }
      },
      "source": [
        "qc.measure(q[0],c[0])\n",
        "qc.measure(q[3],c[1])"
      ],
      "execution_count": 0,
      "outputs": [
        {
          "output_type": "execute_result",
          "data": {
            "text/plain": [
              "<qiskit.circuit.instructionset.InstructionSet at 0x7f993486d9b0>"
            ]
          },
          "metadata": {
            "tags": []
          },
          "execution_count": 13
        }
      ]
    },
    {
      "cell_type": "code",
      "metadata": {
        "id": "bg9z6Gfh_lNX",
        "colab_type": "code",
        "outputId": "d35e3dff-f8d7-4c95-8c80-527ca6dae917",
        "colab": {
          "base_uri": "https://localhost:8080/",
          "height": 293
        }
      },
      "source": [
        "backend = Aer.get_backend('qasm_simulator')\n",
        "job = execute(qc, backend, shots=1000)\n",
        "result = job.result()\n",
        "count =result.get_counts()\n",
        "print(count)\n",
        "qc.draw(output='mpl')"
      ],
      "execution_count": 0,
      "outputs": [
        {
          "output_type": "stream",
          "text": [
            "{'00': 488, '10': 512}\n"
          ],
          "name": "stdout"
        },
        {
          "output_type": "execute_result",
          "data": {
            "image/png": "[encoded data removed]",
            "text/plain": [
              "<Figure size 468.356x325.08 with 1 Axes>"
            ]
          },
          "metadata": {
            "tags": []
          },
          "execution_count": 14
        }
      ]
    },
    {
      "cell_type": "markdown",
      "metadata": {
        "id": "yaIP3i_I_zb5",
        "colab_type": "text"
      },
      "source": [
        "###When $f(x):\\{0,1\\} \\rightarrow \\{1,0\\} $ and\n",
        " $f(0)= 1\\\\\n",
        "          f(1)=1 $"
      ]
    },
    {
      "cell_type": "code",
      "metadata": {
        "id": "_e-qAJ5z_oQR",
        "colab_type": "code",
        "colab": {}
      },
      "source": [
        "q = QuantumRegister(4)\n",
        "c = ClassicalRegister(2)\n",
        "\n",
        "qc = QuantumCircuit(q,c)"
      ],
      "execution_count": 0,
      "outputs": []
    },
    {
      "cell_type": "code",
      "metadata": {
        "id": "33TlsLJg_9Lf",
        "colab_type": "code",
        "outputId": "0bce5a61-4c2e-40e3-cee8-a6d53d7efdd9",
        "colab": {
          "base_uri": "https://localhost:8080/",
          "height": 34
        }
      },
      "source": [
        "qc.x(q[3])\n",
        "qc.h(q[0])\n",
        "qc.h(q[3])\n",
        "\n",
        "# the implementation of the function f(x)\n",
        "qc.ccx(q[0],q[1],q[2])\n",
        "qc.x(q[2])\n",
        "qc.cx(q[2],q[3])\n",
        "#\n",
        "\n",
        "qc.h(q[0])"
      ],
      "execution_count": 0,
      "outputs": [
        {
          "output_type": "execute_result",
          "data": {
            "text/plain": [
              "<qiskit.circuit.instructionset.InstructionSet at 0x7f9934762a58>"
            ]
          },
          "metadata": {
            "tags": []
          },
          "execution_count": 16
        }
      ]
    },
    {
      "cell_type": "code",
      "metadata": {
        "id": "q4DtdLl6AB9r",
        "colab_type": "code",
        "outputId": "56557d1f-7a22-4897-b7a2-98ccde7d969a",
        "colab": {
          "base_uri": "https://localhost:8080/",
          "height": 34
        }
      },
      "source": [
        "qc.measure(q[0],c[0])\n",
        "qc.measure(q[3],c[1])"
      ],
      "execution_count": 0,
      "outputs": [
        {
          "output_type": "execute_result",
          "data": {
            "text/plain": [
              "<qiskit.circuit.instructionset.InstructionSet at 0x7f9934747fd0>"
            ]
          },
          "metadata": {
            "tags": []
          },
          "execution_count": 17
        }
      ]
    },
    {
      "cell_type": "code",
      "metadata": {
        "id": "iSxZ-tQoACvV",
        "colab_type": "code",
        "outputId": "d345948f-9441-4e33-d6b5-c0f5890afd77",
        "colab": {
          "base_uri": "https://localhost:8080/",
          "height": 293
        }
      },
      "source": [
        "backend = Aer.get_backend('qasm_simulator')\n",
        "job = execute(qc, backend, shots=1000)\n",
        "result = job.result()\n",
        "count =result.get_counts()\n",
        "print(count)\n",
        "qc.draw(output='mpl')"
      ],
      "execution_count": 0,
      "outputs": [
        {
          "output_type": "stream",
          "text": [
            "{'00': 457, '10': 543}\n"
          ],
          "name": "stdout"
        },
        {
          "output_type": "execute_result",
          "data": {
            "image/png": "[encoded data removed]",
            "text/plain": [
              "<Figure size 528.556x325.08 with 1 Axes>"
            ]
          },
          "metadata": {
            "tags": []
          },
          "execution_count": 18
        }
      ]
    }
  ]
}
